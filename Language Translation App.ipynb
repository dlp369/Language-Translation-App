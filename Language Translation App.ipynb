{
 "cells": [
  {
   "cell_type": "code",
   "execution_count": 1,
   "id": "cd6d8c50-be34-4c3d-a2bf-5dea10ea3e3f",
   "metadata": {},
   "outputs": [],
   "source": [
    "from transformers import MBartForConditionalGeneration, AutoTokenizer\n",
    "\n",
    "model = MBartForConditionalGeneration.from_pretrained(\"facebook/mbart-large-50-many-to-many-mmt\")\n",
    "tokenizer = AutoTokenizer.from_pretrained(\"facebook/mbart-large-50-many-to-many-mmt\")"
   ]
  },
  {
   "cell_type": "markdown",
   "id": "e71011c2-4d78-4cd8-8911-fed81efdfb47",
   "metadata": {},
   "source": [
    "# Languages covered\n",
    "\n",
    "Arabic (ar_AR), Czech (cs_CZ), German (de_DE), English (en_XX), Spanish (es_XX), Estonian (et_EE), Finnish (fi_FI), French (fr_XX), Gujarati (gu_IN), Hindi (hi_IN), Italian (it_IT), Japanese (ja_XX), Kazakh (kk_KZ), Korean (ko_KR), Lithuanian (lt_LT), Latvian (lv_LV), Burmese (my_MM), Nepali (ne_NP), Dutch (nl_XX), Romanian (ro_RO), Russian (ru_RU), Sinhala (si_LK), Turkish (tr_TR), Vietnamese (vi_VN), Chinese (zh_CN), Afrikaans (af_ZA), Azerbaijani (az_AZ), Bengali (bn_IN), Persian (fa_IR), Hebrew (he_IL), Croatian (hr_HR), Indonesian (id_ID), Georgian (ka_GE), Khmer (km_KH), Macedonian (mk_MK), Malayalam (ml_IN), Mongolian (mn_MN), Marathi (mr_IN), Polish (pl_PL), Pashto (ps_AF), Portuguese (pt_XX), Swedish (sv_SE), Swahili (sw_KE), Tamil (ta_IN), Telugu (te_IN), Thai (th_TH), Tagalog (tl_XX), Ukrainian (uk_UA), Urdu (ur_PK), Xhosa (xh_ZA), Galician (gl_ES), Slovene (sl_SI)"
   ]
  },
  {
   "cell_type": "code",
   "execution_count": 2,
   "id": "c3dd9885-6fea-475b-a341-74def494674f",
   "metadata": {},
   "outputs": [],
   "source": [
    "langs = {'Arabic (ar_AR)':'ar_AR','Czech (cs_CZ)':'cs_CZ','German (de_DE)':'de_DE','English (en_XX)':'en_XX','Spanish (es_XX)':'es_XX',\n",
    "        'Estonian (et_EE)':'et_EE','Finnish (fi_FI)':'fi_FI', 'French (fr_XX)':'fr_XX', 'Gujarati (gu_IN)':'gu_IN', 'Hindi (hi_IN)':'hi_IN', \n",
    "        'Italian (it_IT)':'it_IT', 'Japanese (ja_XX)':'ja_XX', 'Kazakh (kk_KZ)':'kk_KZ', 'Korean (ko_KR)':'ko_KR', 'Lithuanian (lt_LT)':'lt_LT', \n",
    "        'Latvian (lv_LV)':'lv_LV', 'Burmese (my_MM)':'my_MM', 'Nepali (ne_NP)':'ne_NP', 'Dutch (nl_XX)':'nl_XX', 'Romanian (ro_RO)':'ro_RO', \n",
    "        'Russian (ru_RU)':'ru_RU', 'Sinhala (si_LK)':'si_LK', 'Turkish (tr_TR)':'tr_TR', 'Vietnamese (vi_VN)':'vi_VN', 'Chinese (zh_CN)':'zh_CN', \n",
    "        'Afrikaans (af_ZA)':'af_ZA', 'Azerbaijani (az_AZ)':'az_AZ', 'Bengali (bn_IN)':'bn_IN', 'Persian (fa_IR)':'fa_IR', 'Hebrew (he_IL)':'he_IL', \n",
    "        'Croatian (hr_HR)':'hr_HR', 'Indonesian (id_ID)':'id_ID', 'Georgian (ka_GE)':'ka_GE', 'Khmer (km_KH)':'km_KH', 'Macedonian (mk_MK)':'mk_MK', \n",
    "        'Malayalam (ml_IN)':'ml_IN', 'Mongolian (mn_MN)':'mn_MN', 'Marathi (mr_IN)':'mr_IN', 'Polish (pl_PL)':'pl_PL', 'Pashto (ps_AF)':'ps_AF', \n",
    "        'Portuguese (pt_XX)':'pt_XX', 'Swedish (sv_SE)':'sv_SE', 'Swahili (sw_KE)':'sw_KE', 'Tamil (ta_IN)':'ta_IN', 'Telugu (te_IN)':'te_IN', \n",
    "        'Thai (th_TH)':'th_TH', 'Tagalog (tl_XX)':'tl_XX', 'Ukrainian (uk_UA)':'uk_UA', 'Urdu (ur_PK)':'ur_PK', 'Xhosa (xh_ZA)':'xh_ZA', \n",
    "        'Galician (gl_ES)':'gl_ES', 'Slovene (sl_SI)':'sl_SI'}"
   ]
  },
  {
   "cell_type": "code",
   "execution_count": 3,
   "id": "9bda4e1d-719c-4202-99a8-acb9faa6b9c8",
   "metadata": {},
   "outputs": [],
   "source": [
    "def translate_transformers(source_lang, target_lang, text):\n",
    "    source_lang = langs[source_lang]\n",
    "    target_lang = langs[target_lang]\n",
    "    tokenizer.src_lang = source_lang\n",
    "    encoded = tokenizer(text, return_tensors=\"pt\")\n",
    "    generated_tokens = model.generate(**encoded, forced_bos_token_id=tokenizer.lang_code_to_id[target_lang])\n",
    "    \n",
    "    return tokenizer.batch_decode(generated_tokens, skip_special_tokens=True)[0]\n"
   ]
  },
  {
   "cell_type": "code",
   "execution_count": 4,
   "id": "f68f5fbe-a075-4c47-9f57-1226f845daf2",
   "metadata": {},
   "outputs": [],
   "source": [
    "import gradio as gr\n",
    "interface = gr.Interface(fn=translate_transformers, \n",
    "                        inputs=[gr.Dropdown(langs.keys(), label=\"Source Language\"), gr.Dropdown(langs.keys(), label=\"Target Language\"), 'text'],\n",
    "                        outputs='text',\n",
    "                        title='Language Translation')"
   ]
  },
  {
   "cell_type": "code",
   "execution_count": 5,
   "id": "4bb2f5f4-9ec3-4ae5-bbca-7f7b94328d80",
   "metadata": {},
   "outputs": [
    {
     "name": "stdout",
     "output_type": "stream",
     "text": [
      "Running on local URL:  http://127.0.0.1:7860\n",
      "Running on public URL: https://0faa1bc5660ebc7073.gradio.live\n",
      "\n",
      "This share link expires in 72 hours. For free permanent hosting and GPU upgrades, run `gradio deploy` from Terminal to deploy to Spaces (https://huggingface.co/spaces)\n"
     ]
    },
    {
     "data": {
      "text/html": [
       "<div><iframe src=\"https://0faa1bc5660ebc7073.gradio.live\" width=\"100%\" height=\"500\" allow=\"autoplay; camera; microphone; clipboard-read; clipboard-write;\" frameborder=\"0\" allowfullscreen></iframe></div>"
      ],
      "text/plain": [
       "<IPython.core.display.HTML object>"
      ]
     },
     "metadata": {},
     "output_type": "display_data"
    },
    {
     "data": {
      "text/plain": []
     },
     "execution_count": 5,
     "metadata": {},
     "output_type": "execute_result"
    }
   ],
   "source": [
    "interface.launch(share=True)"
   ]
  }
 ],
 "metadata": {
  "kernelspec": {
   "display_name": "Python 3 (ipykernel)",
   "language": "python",
   "name": "python3"
  },
  "language_info": {
   "codemirror_mode": {
    "name": "ipython",
    "version": 3
   },
   "file_extension": ".py",
   "mimetype": "text/x-python",
   "name": "python",
   "nbconvert_exporter": "python",
   "pygments_lexer": "ipython3",
   "version": "3.11.7"
  }
 },
 "nbformat": 4,
 "nbformat_minor": 5
}
